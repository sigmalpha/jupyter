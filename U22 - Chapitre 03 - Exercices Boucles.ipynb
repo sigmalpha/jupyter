{
 "cells": [
  {
   "cell_type": "markdown",
   "metadata": {
    "colab_type": "text",
    "id": "tFYaeWnJuFgv"
   },
   "source": [
    "## FEUILLE D'EXERCICES - STRUCTURES ITÉRATIVES"
   ]
  },
  {
   "cell_type": "code",
   "execution_count": 1,
   "metadata": {
    "colab": {
     "base_uri": "https://localhost:8080/",
     "height": 34
    },
    "colab_type": "code",
    "executionInfo": {
     "elapsed": 563,
     "status": "ok",
     "timestamp": 1539458899944,
     "user": {
      "displayName": "Cédric Pierquet",
      "photoUrl": "",
      "userId": "13303666365932756531"
     },
     "user_tz": -120
    },
    "id": "HLUOQD3k2uW9",
    "outputId": "641d4bf3-a03e-4192-e31a-0c84a62cf631"
   },
   "outputs": [
    {
     "name": "stdout",
     "output_type": "stream",
     "text": [
      "Ici, f vaut 15\n"
     ]
    }
   ],
   "source": [
    "# Exercice 03\n",
    "\n",
    "n = 5\n",
    "f = 0\n",
    "i = 1\n",
    "while i<n+1:\n",
    "  f=f+i\n",
    "  i=i+1\n",
    "print(f\"Ici, f vaut {f}\")"
   ]
  },
  {
   "cell_type": "code",
   "execution_count": 2,
   "metadata": {
    "colab": {
     "base_uri": "https://localhost:8080/",
     "height": 204
    },
    "colab_type": "code",
    "executionInfo": {
     "elapsed": 4034,
     "status": "ok",
     "timestamp": 1539459040105,
     "user": {
      "displayName": "Cédric Pierquet",
      "photoUrl": "",
      "userId": "13303666365932756531"
     },
     "user_tz": -120
    },
    "id": "PCVPYdDZ5ra5",
    "outputId": "9650257e-a1b4-4c6b-aa89-24f55dee318a"
   },
   "outputs": [
    {
     "name": "stdin",
     "output_type": "stream",
     "text": [
      "Saisir un entier positif :  10\n"
     ]
    },
    {
     "name": "stdout",
     "output_type": "stream",
     "text": [
      "1\n",
      "3\n",
      "6\n",
      "10\n",
      "15\n",
      "21\n",
      "28\n",
      "36\n",
      "45\n",
      "55\n"
     ]
    }
   ],
   "source": [
    "# EXERCICE 04a\n",
    "\n",
    "N = int(input(\"Saisir un entier positif : \"))\n",
    "X=0\n",
    "for i in range(1,N+1):\n",
    "  X=X+i\n",
    "  print(X)"
   ]
  },
  {
   "cell_type": "code",
   "execution_count": 3,
   "metadata": {
    "colab": {
     "base_uri": "https://localhost:8080/",
     "height": 119
    },
    "colab_type": "code",
    "executionInfo": {
     "elapsed": 24568,
     "status": "ok",
     "timestamp": 1539459167254,
     "user": {
      "displayName": "Cédric Pierquet",
      "photoUrl": "",
      "userId": "13303666365932756531"
     },
     "user_tz": -120
    },
    "id": "qHLrmkvM6PmS",
    "outputId": "2dd6b7f9-50cc-4169-ccdb-edfa97785f7f"
   },
   "outputs": [
    {
     "name": "stdin",
     "output_type": "stream",
     "text": [
      "Saisir un entier X :  10\n",
      "Saisir un entier X :  0\n",
      "Saisir un entier X :  -2\n"
     ]
    },
    {
     "name": "stdout",
     "output_type": "stream",
     "text": [
      "3\n"
     ]
    }
   ],
   "source": [
    "# EXERCICE 04b\n",
    "\n",
    "X=0\n",
    "i=0\n",
    "while X>=0:\n",
    "  X=int(input(\"Saisir un entier X : \"))\n",
    "  i=i+1\n",
    "print(i)"
   ]
  },
  {
   "cell_type": "code",
   "execution_count": 4,
   "metadata": {
    "colab": {
     "base_uri": "https://localhost:8080/",
     "height": 119
    },
    "colab_type": "code",
    "executionInfo": {
     "elapsed": 9796,
     "status": "ok",
     "timestamp": 1539459508387,
     "user": {
      "displayName": "Cédric Pierquet",
      "photoUrl": "",
      "userId": "13303666365932756531"
     },
     "user_tz": -120
    },
    "id": "QwntNtb17osi",
    "outputId": "85fd41fb-1579-4be5-c21e-fc524d2e6b97"
   },
   "outputs": [
    {
     "name": "stdin",
     "output_type": "stream",
     "text": [
      "Saisir un entier positif :  15\n",
      "Saisir un message :  Abc\n"
     ]
    },
    {
     "name": "stdout",
     "output_type": "stream",
     "text": [
      "Abc\n",
      "Abc\n",
      "Abc\n",
      "Abc\n",
      "Abc\n",
      "Abc\n",
      "Abc\n",
      "Abc\n",
      "Abc\n",
      "Abc\n",
      "Abc\n",
      "Abc\n",
      "Abc\n",
      "Abc\n",
      "Abc\n"
     ]
    }
   ],
   "source": [
    "# EXERCICE 05\n",
    "\n",
    "n = int(input(\"Saisir un entier positif : \"))\n",
    "message = input(\"Saisir un message : \")\n",
    "\n",
    "for i in range(1,n+1):\n",
    "  print(message)"
   ]
  },
  {
   "cell_type": "code",
   "execution_count": 5,
   "metadata": {
    "colab": {
     "base_uri": "https://localhost:8080/",
     "height": 238
    },
    "colab_type": "code",
    "executionInfo": {
     "elapsed": 3167,
     "status": "ok",
     "timestamp": 1539459644737,
     "user": {
      "displayName": "Cédric Pierquet",
      "photoUrl": "",
      "userId": "13303666365932756531"
     },
     "user_tz": -120
    },
    "id": "9kPOctXp8AtK",
    "outputId": "ea057c9e-8cde-4707-de37-593e9959ed57"
   },
   "outputs": [
    {
     "name": "stdin",
     "output_type": "stream",
     "text": [
      "Saisir un entier positif :  5\n"
     ]
    },
    {
     "name": "stdout",
     "output_type": "stream",
     "text": [
      "5\n",
      "4\n",
      "3\n",
      "2\n",
      "1\n",
      "0\n",
      "Boum !!\n"
     ]
    }
   ],
   "source": [
    "# EXERCICE 06\n",
    "\n",
    "n = int(input(\"Saisir un entier positif : \"))\n",
    "for i in range(0,n+1):\n",
    "  print(n-i)\n",
    "print(\"Boum !!\")"
   ]
  },
  {
   "cell_type": "code",
   "execution_count": 6,
   "metadata": {
    "colab": {
     "base_uri": "https://localhost:8080/",
     "height": 323
    },
    "colab_type": "code",
    "executionInfo": {
     "elapsed": 11555,
     "status": "ok",
     "timestamp": 1539460001042,
     "user": {
      "displayName": "Cédric Pierquet",
      "photoUrl": "",
      "userId": "13303666365932756531"
     },
     "user_tz": -120
    },
    "id": "MqU9rVHR8iva",
    "outputId": "4ac055e4-ed74-416f-f136-27ca052bc613"
   },
   "outputs": [
    {
     "name": "stdin",
     "output_type": "stream",
     "text": [
      "Saisir un entier positif :  10\n"
     ]
    },
    {
     "name": "stdout",
     "output_type": "stream",
     "text": [
      "**********\n"
     ]
    },
    {
     "name": "stdin",
     "output_type": "stream",
     "text": [
      "Saisir un entier positif :  10\n"
     ]
    },
    {
     "name": "stdout",
     "output_type": "stream",
     "text": [
      "**********\n",
      "**********\n",
      "**********\n",
      "**********\n",
      "**********\n",
      "**********\n",
      "**********\n",
      "**********\n",
      "**********\n",
      "**********\n"
     ]
    },
    {
     "name": "stdin",
     "output_type": "stream",
     "text": [
      "Saisir un entier positif :  15\n"
     ]
    },
    {
     "name": "stdout",
     "output_type": "stream",
     "text": [
      "*\n",
      "**\n",
      "***\n",
      "****\n",
      "*****\n",
      "******\n",
      "*******\n",
      "********\n",
      "*********\n",
      "**********\n",
      "***********\n",
      "************\n",
      "*************\n",
      "**************\n",
      "***************\n"
     ]
    }
   ],
   "source": [
    "# EXERCICE 07\n",
    "\n",
    "L = int(input(\"Saisir un entier positif : \"))\n",
    "print(L*\"*\")\n",
    "\n",
    "l = int(input(\"Saisir un entier positif : \"))\n",
    "for i in range(1,l+1):\n",
    "  print(L*\"*\")\n",
    "\n",
    "N = int(input(\"Saisir un entier positif : \"))\n",
    "for i in range(1,N+1):\n",
    "  print(i*\"*\")"
   ]
  },
  {
   "cell_type": "code",
   "execution_count": 7,
   "metadata": {
    "colab": {
     "base_uri": "https://localhost:8080/",
     "height": 136
    },
    "colab_type": "code",
    "executionInfo": {
     "elapsed": 18467,
     "status": "ok",
     "timestamp": 1539460408158,
     "user": {
      "displayName": "Cédric Pierquet",
      "photoUrl": "",
      "userId": "13303666365932756531"
     },
     "user_tz": -120
    },
    "id": "QjBWmeQ4-GFm",
    "outputId": "40b2e672-f55a-4fec-e2dc-657b7c37ee7b"
   },
   "outputs": [
    {
     "name": "stdin",
     "output_type": "stream",
     "text": [
      "Saisir un réel :  2.1\n",
      "Avez-vous un autre nombre à saisir ? [o/n] :  n\n"
     ]
    },
    {
     "name": "stdout",
     "output_type": "stream",
     "text": [
      "La valeur maximale qui a été saisie est 2.1\n"
     ]
    }
   ],
   "source": [
    "# EXERCICE 08\n",
    "\n",
    "saisie = \"o\"\n",
    "valeurmax = 0\n",
    "\n",
    "while saisie == \"o\":\n",
    "  reel = float(input(\"Saisir un réel : \"))\n",
    "  valeurmax = max(valeurmax,reel)\n",
    "  saisie = input(\"Avez-vous un autre nombre à saisir ? [o/n] : \")\n",
    "print(f\"La valeur maximale qui a été saisie est {valeurmax}\")"
   ]
  },
  {
   "cell_type": "code",
   "execution_count": 8,
   "metadata": {
    "colab": {
     "base_uri": "https://localhost:8080/",
     "height": 170
    },
    "colab_type": "code",
    "executionInfo": {
     "elapsed": 12536,
     "status": "ok",
     "timestamp": 1539460691240,
     "user": {
      "displayName": "Cédric Pierquet",
      "photoUrl": "",
      "userId": "13303666365932756531"
     },
     "user_tz": -120
    },
    "id": "ZCgYzsaW_jyT",
    "outputId": "85ea77b8-2aef-4a04-c661-a5dba6704b74"
   },
   "outputs": [
    {
     "name": "stdin",
     "output_type": "stream",
     "text": [
      "Saisir une note :  1\n",
      "Avez-vous une autre note à saisir ? [o/n] :  o\n",
      "Saisir une note :  2\n",
      "Avez-vous une autre note à saisir ? [o/n] :  o\n",
      "Saisir une note :  3\n",
      "Avez-vous une autre note à saisir ? [o/n] :  n\n"
     ]
    },
    {
     "name": "stdout",
     "output_type": "stream",
     "text": [
      "Vous avez saisi 3 notes\n",
      "La somme de ces notes est 6\n",
      "La moyenne de ces notes est 2.00\n"
     ]
    }
   ],
   "source": [
    "# EXERCICE 09a\n",
    "\n",
    "saisie = \"o\"\n",
    "compteur = 0\n",
    "cumul = 0\n",
    "\n",
    "while saisie == \"o\":\n",
    "  note = int(input(\"Saisir une note : \"))\n",
    "  compteur = compteur + 1\n",
    "  cumul = cumul + note\n",
    "  saisie = input(\"Avez-vous une autre note à saisir ? [o/n] : \")\n",
    "print(f\"Vous avez saisi {compteur} notes\")\n",
    "print(f\"La somme de ces notes est {cumul}\")\n",
    "print(f\"La moyenne de ces notes est {cumul/compteur:.2f}\")"
   ]
  },
  {
   "cell_type": "code",
   "execution_count": 9,
   "metadata": {
    "colab": {
     "base_uri": "https://localhost:8080/",
     "height": 170
    },
    "colab_type": "code",
    "executionInfo": {
     "elapsed": 12918,
     "status": "ok",
     "timestamp": 1539460898262,
     "user": {
      "displayName": "Cédric Pierquet",
      "photoUrl": "",
      "userId": "13303666365932756531"
     },
     "user_tz": -120
    },
    "id": "qCU2v58-AjY1",
    "outputId": "bf695ffd-2b9d-4399-8b66-24d849514b82"
   },
   "outputs": [
    {
     "name": "stdin",
     "output_type": "stream",
     "text": [
      "Saisir une note :  10\n",
      "Avez-vous une autre note à saisir ? [o/n] :  o\n",
      "Saisir une note :  11\n",
      "Avez-vous une autre note à saisir ? [o/n] :  o\n",
      "Saisir une note :  9\n",
      "Avez-vous une autre note à saisir ? [o/n] :  n\n"
     ]
    },
    {
     "name": "stdout",
     "output_type": "stream",
     "text": [
      "Vous avez saisi 3 notes\n",
      "Il y avait 2 notes supérieures ou égales à 10\n",
      "Le pourcentage de ces notes est de 66.67%\n"
     ]
    }
   ],
   "source": [
    "# EXERCICE 09b\n",
    "\n",
    "saisie = \"o\"\n",
    "compteur = 0\n",
    "compteurpos = 0\n",
    "\n",
    "while saisie == \"o\":\n",
    "  note = int(input(\"Saisir une note : \"))\n",
    "  compteur +=1\n",
    "  if note >=10:\n",
    "    compteurpos +=1\n",
    "  saisie = input(\"Avez-vous une autre note à saisir ? [o/n] : \")\n",
    "print(f\"Vous avez saisi {compteur} notes\")\n",
    "print(f\"Il y avait {compteurpos} notes supérieures ou égales à 10\")\n",
    "print(f\"Le pourcentage de ces notes est de {compteurpos/compteur*100:.2f}%\")"
   ]
  },
  {
   "cell_type": "code",
   "execution_count": 10,
   "metadata": {
    "colab": {
     "base_uri": "https://localhost:8080/",
     "height": 204
    },
    "colab_type": "code",
    "executionInfo": {
     "elapsed": 14673,
     "status": "ok",
     "timestamp": 1539461084508,
     "user": {
      "displayName": "Cédric Pierquet",
      "photoUrl": "",
      "userId": "13303666365932756531"
     },
     "user_tz": -120
    },
    "id": "q-RZupK2BdnO",
    "outputId": "8753fdfb-c6d9-4797-90d9-efb57bcd8982"
   },
   "outputs": [
    {
     "name": "stdin",
     "output_type": "stream",
     "text": [
      "Combien de notes voulez-vous saisir ?  3\n",
      "Saisir une note :  1\n",
      "Saisir une note :  2\n",
      "Saisir une note :  3\n"
     ]
    },
    {
     "name": "stdout",
     "output_type": "stream",
     "text": [
      "Vous avez saisi 3 notes\n",
      "Il y avait 0 notes supérieures ou égales à 10\n",
      "Le pourcentage de ces notes est de 0.00%\n"
     ]
    }
   ],
   "source": [
    "# EXERCICE 09c\n",
    "\n",
    "n = int(input(\"Combien de notes voulez-vous saisir ? \"))\n",
    "compteurpos = 0\n",
    "\n",
    "for i in range(1,n+1):\n",
    "  note = int(input(\"Saisir une note : \"))\n",
    "  if note >=10:\n",
    "    compteurpos +=1\n",
    "print(f\"Vous avez saisi {n} notes\")\n",
    "print(f\"Il y avait {compteurpos} notes supérieures ou égales à 10\")\n",
    "print(f\"Le pourcentage de ces notes est de {compteurpos/n*100:.2f}%\")"
   ]
  },
  {
   "cell_type": "code",
   "execution_count": 11,
   "metadata": {
    "colab": {
     "base_uri": "https://localhost:8080/",
     "height": 255
    },
    "colab_type": "code",
    "executionInfo": {
     "elapsed": 19980,
     "status": "ok",
     "timestamp": 1539499400408,
     "user": {
      "displayName": "Cédric Pierquet",
      "photoUrl": "",
      "userId": "13303666365932756531"
     },
     "user_tz": -120
    },
    "id": "af6jSQQRCa75",
    "outputId": "822be169-6a85-473c-b82a-cabac102b44f"
   },
   "outputs": [
    {
     "name": "stdin",
     "output_type": "stream",
     "text": [
      "Saisir un réel :  1\n",
      "Saisir un réel :  2\n",
      "Saisir un réel :  3\n",
      "Saisir un réel :  4\n",
      "Saisir un réel :  5\n",
      "Saisir un réel :  0\n",
      "Saisir un réel :  -2\n",
      "Saisir un réel :  -5\n",
      "Saisir un réel :  0\n",
      "Saisir un réel :  5\n"
     ]
    },
    {
     "name": "stdout",
     "output_type": "stream",
     "text": [
      "Vous avez saisi 8 valeurs positives\n",
      "La moyenne des valeurs positives est de 2.50\n",
      "Vous avez saisi 2 valeurs negatives\n",
      "La moyenne des valeurs négatives est de -3.50\n"
     ]
    }
   ],
   "source": [
    "# EXERCICE 10\n",
    "\n",
    "compteurpos = 0\n",
    "compteurneg = 0\n",
    "cumulpos = 0\n",
    "cumulneg = 0\n",
    "\n",
    "for i in range(1,11):\n",
    "  reel = int(input(\"Saisir un réel : \"))\n",
    "  if reel >=0:\n",
    "    compteurpos +=1\n",
    "    cumulpos +=reel\n",
    "  else :\n",
    "    compteurneg +=1\n",
    "    cumulneg +=reel\n",
    "print(f\"Vous avez saisi {compteurpos} valeurs positives\")\n",
    "print(f\"La moyenne des valeurs positives est de {cumulpos/compteurpos:.2f}\")\n",
    "print(f\"Vous avez saisi {compteurneg} valeurs negatives\")\n",
    "print(f\"La moyenne des valeurs négatives est de {cumulneg/compteurneg:.2f}\")"
   ]
  },
  {
   "cell_type": "code",
   "execution_count": 12,
   "metadata": {
    "colab": {
     "base_uri": "https://localhost:8080/",
     "height": 51
    },
    "colab_type": "code",
    "executionInfo": {
     "elapsed": 4130,
     "status": "ok",
     "timestamp": 1539700310386,
     "user": {
      "displayName": "Cédric Pierquet",
      "photoUrl": "",
      "userId": "13303666365932756531"
     },
     "user_tz": -120
    },
    "id": "J3dV8tYlDwKI",
    "outputId": "455e8947-0fd0-43d6-94b0-58fa0687a74b"
   },
   "outputs": [
    {
     "name": "stdin",
     "output_type": "stream",
     "text": [
      "Saisir un entier n :  10\n"
     ]
    },
    {
     "name": "stdout",
     "output_type": "stream",
     "text": [
      "1+2+...+10=55\n"
     ]
    }
   ],
   "source": [
    "# EXERCICE 12\n",
    "\n",
    "n = int(input(\"Saisir un entier n : \"))\n",
    "S = 0\n",
    "\n",
    "for i in range(1,n+1):\n",
    "  S=S+i\n",
    "print(f\"1+2+...+{n}={S}\")"
   ]
  },
  {
   "cell_type": "code",
   "execution_count": 13,
   "metadata": {
    "colab": {
     "base_uri": "https://localhost:8080/",
     "height": 85
    },
    "colab_type": "code",
    "executionInfo": {
     "elapsed": 4244,
     "status": "ok",
     "timestamp": 1539462023440,
     "user": {
      "displayName": "Cédric Pierquet",
      "photoUrl": "",
      "userId": "13303666365932756531"
     },
     "user_tz": -120
    },
    "id": "Su52TiGhEzEB",
    "outputId": "d5dd009e-a863-4266-90d3-1984c392dace"
   },
   "outputs": [
    {
     "name": "stdin",
     "output_type": "stream",
     "text": [
      "Saisir un entier n :  10\n"
     ]
    },
    {
     "name": "stdout",
     "output_type": "stream",
     "text": [
      "1²+2²+...+10²=385\n",
      "1+1/2+...+1/10=2.9289682539682538\n",
      "1+1/2-...+(-1)^10/10=1.3543650793650797\n"
     ]
    }
   ],
   "source": [
    "# EXERCICE 13\n",
    "\n",
    "n = int(input(\"Saisir un entier n : \"))\n",
    "C = 0\n",
    "I = 0\n",
    "J = 2\n",
    "\n",
    "for i in range(1,n+1):\n",
    "  C = C+i**2\n",
    "  I = I+1/i\n",
    "  J = J+(-1)**i/i\n",
    "print(f\"1²+2²+...+{n}²={C}\")\n",
    "print(f\"1+1/2+...+1/{n}={I}\")\n",
    "print(f\"1+1/2-...+(-1)^{n}/{n}={J}\")"
   ]
  },
  {
   "cell_type": "code",
   "execution_count": 1,
   "metadata": {
    "colab": {
     "base_uri": "https://localhost:8080/",
     "height": 170
    },
    "colab_type": "code",
    "executionInfo": {
     "elapsed": 3712,
     "status": "ok",
     "timestamp": 1539462351127,
     "user": {
      "displayName": "Cédric Pierquet",
      "photoUrl": "",
      "userId": "13303666365932756531"
     },
     "user_tz": -120
    },
    "id": "Bzm1sJMPFuvE",
    "outputId": "e8efe383-d2d7-401d-d324-6747bd89cf45"
   },
   "outputs": [
    {
     "name": "stdin",
     "output_type": "stream",
     "text": [
      "Saisir le premier terme u0 (non nul) :  45\n"
     ]
    },
    {
     "name": "stdout",
     "output_type": "stream",
     "text": [
      "45\n",
      "136\n",
      "68\n",
      "34\n",
      "17\n",
      "52\n",
      "26\n",
      "13\n",
      "40\n",
      "20\n",
      "10\n",
      "5\n",
      "16\n",
      "8\n",
      "4\n",
      "2\n",
      "1\n"
     ]
    }
   ],
   "source": [
    "# EXERCICE 14\n",
    "\n",
    "u = int(input(\"Saisir le premier terme u0 (non nul) : \"))\n",
    "print(u)\n",
    "\n",
    "while u !=1:\n",
    "  if u%2 == 0:\n",
    "    u = u//2\n",
    "  else:\n",
    "    u = 3*u + 1\n",
    "  print(u)"
   ]
  },
  {
   "cell_type": "code",
   "execution_count": 15,
   "metadata": {
    "colab": {
     "base_uri": "https://localhost:8080/",
     "height": 51
    },
    "colab_type": "code",
    "executionInfo": {
     "elapsed": 6403,
     "status": "ok",
     "timestamp": 1539463062332,
     "user": {
      "displayName": "Cédric Pierquet",
      "photoUrl": "",
      "userId": "13303666365932756531"
     },
     "user_tz": -120
    },
    "id": "rBztjnrvG6Po",
    "outputId": "90607f3c-ab3f-4230-abfe-a06f6f4e01e4"
   },
   "outputs": [
    {
     "name": "stdin",
     "output_type": "stream",
     "text": [
      "Saisir un réel e, en km :  380000\n"
     ]
    },
    {
     "name": "stdout",
     "output_type": "stream",
     "text": [
      "Pour dépasser 380000.0 km, il faut plier 40 fois la feuille !\n"
     ]
    }
   ],
   "source": [
    "# EXERCICE 16\n",
    "\n",
    "e = float(input(\"Saisir un réel e, en km : \"))\n",
    "epaisseur = 0.05*10**(-5)\n",
    "compteur = 0\n",
    "\n",
    "while epaisseur < e:\n",
    "  epaisseur *=2\n",
    "  compteur +=1\n",
    "\n",
    "print(f\"Pour dépasser {e} km, il faut plier {compteur} fois la feuille !\")"
   ]
  }
 ],
 "metadata": {
  "colab": {
   "collapsed_sections": [],
   "name": "U22 - Chapitre 03 - Exercices Boucles.ipynb",
   "provenance": [
    {
     "file_id": "14F6Xz9oVepGfvndd_BWf_Rsj-xhvdnvc",
     "timestamp": 1539458636638
    }
   ],
   "version": "0.3.2"
  },
  "kernelspec": {
   "display_name": "Python 3",
   "language": "python",
   "name": "python3"
  },
  "language_info": {
   "codemirror_mode": {
    "name": "ipython",
    "version": 3
   },
   "file_extension": ".py",
   "mimetype": "text/x-python",
   "name": "python",
   "nbconvert_exporter": "python",
   "pygments_lexer": "ipython3",
   "version": "3.7.1"
  }
 },
 "nbformat": 4,
 "nbformat_minor": 2
}
