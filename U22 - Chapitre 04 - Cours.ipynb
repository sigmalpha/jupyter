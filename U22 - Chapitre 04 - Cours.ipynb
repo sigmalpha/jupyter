{
 "cells": [
  {
   "cell_type": "markdown",
   "metadata": {},
   "source": [
    "# **Chapitre 04 - Les tableaux**"
   ]
  },
  {
   "cell_type": "markdown",
   "metadata": {},
   "source": [
    "## **Tableaux à une dimension**"
   ]
  },
  {
   "cell_type": "code",
   "execution_count": 1,
   "metadata": {},
   "outputs": [
    {
     "name": "stdout",
     "output_type": "stream",
     "text": [
      "Contenu de la case n°0 ? \n"
     ]
    },
    {
     "name": "stdin",
     "output_type": "stream",
     "text": [
      " 1\n"
     ]
    },
    {
     "name": "stdout",
     "output_type": "stream",
     "text": [
      "Contenu de la case n°1 ? \n"
     ]
    },
    {
     "name": "stdin",
     "output_type": "stream",
     "text": [
      " 2\n"
     ]
    },
    {
     "name": "stdout",
     "output_type": "stream",
     "text": [
      "Contenu de la case n°2 ? \n"
     ]
    },
    {
     "name": "stdin",
     "output_type": "stream",
     "text": [
      " 5\n"
     ]
    },
    {
     "name": "stdout",
     "output_type": "stream",
     "text": [
      "Contenu de la case n°3 ? \n"
     ]
    },
    {
     "name": "stdin",
     "output_type": "stream",
     "text": [
      " 4\n"
     ]
    },
    {
     "name": "stdout",
     "output_type": "stream",
     "text": [
      "Contenu de la case n°4 ? \n"
     ]
    },
    {
     "name": "stdin",
     "output_type": "stream",
     "text": [
      " 2\n"
     ]
    },
    {
     "name": "stdout",
     "output_type": "stream",
     "text": [
      "Contenu de la case n°5 ? \n"
     ]
    },
    {
     "name": "stdin",
     "output_type": "stream",
     "text": [
      " 10\n"
     ]
    },
    {
     "name": "stdout",
     "output_type": "stream",
     "text": [
      "Contenu de la case n°6 ? \n"
     ]
    },
    {
     "name": "stdin",
     "output_type": "stream",
     "text": [
      " 6\n"
     ]
    },
    {
     "name": "stdout",
     "output_type": "stream",
     "text": [
      "[1, 2, 5, 6, 7, 1, 2, 3]\n",
      "['1', '2', '5', '4', '2', '10', '6']\n",
      "[88, 49, 60, 44, 70, 83, 60, 43, 95, 90, 65, 53, 56, 84, 11]\n"
     ]
    }
   ],
   "source": [
    "# Génération d'un tableau\n",
    "\n",
    "# Méthode directe\n",
    "Liste1 = [1,2,5,6,7,1,2,3]\n",
    "\n",
    "# Méthode par ajout manuel\n",
    "Liste2 = [\"\" for i in range(0,7)]\n",
    "for i in range(0,7):\n",
    "    print(f\"Contenu de la case n°{i} ? \")\n",
    "    Liste2[i] = input(\"\") # les éléments seront des chaînes\n",
    "\n",
    "# Méthode par compréhension\n",
    "from random import *\n",
    "Liste3 = [randint(1,100) for i in range(0,15)]\n",
    "\n",
    "print(Liste1)\n",
    "print(Liste2)\n",
    "print(Liste3)"
   ]
  },
  {
   "cell_type": "code",
   "execution_count": 2,
   "metadata": {},
   "outputs": [
    {
     "name": "stdout",
     "output_type": "stream",
     "text": [
      "8\n",
      "7\n",
      "15\n",
      "[2, 5, 4, 8]\n",
      "[2, 5, 4, 8]\n"
     ]
    }
   ],
   "source": [
    "# Nombre d'éléments et extension\n",
    "\n",
    "print(len(Liste1))\n",
    "print(len(Liste2))\n",
    "print(len(Liste3))\n",
    "\n",
    "Machin = [2,5,4]\n",
    "Machin.append(8)\n",
    "print(Machin)\n",
    "\n",
    "Machin = [2,5,4]\n",
    "Machin = Machin + [8]\n",
    "print(Machin)"
   ]
  },
  {
   "cell_type": "code",
   "execution_count": 3,
   "metadata": {},
   "outputs": [
    {
     "name": "stdout",
     "output_type": "stream",
     "text": [
      "1\n",
      "2\n",
      "5\n",
      "6\n",
      "7\n",
      "1\n",
      "2\n",
      "3\n"
     ]
    }
   ],
   "source": [
    "# Affichage des éléments\n",
    "\n",
    "for i in range(0,len(Liste1)):\n",
    "    print(Liste1[i])"
   ]
  },
  {
   "cell_type": "code",
   "execution_count": 4,
   "metadata": {},
   "outputs": [
    {
     "name": "stdin",
     "output_type": "stream",
     "text": [
      "Valeur à rechercher :  83\n"
     ]
    },
    {
     "name": "stdout",
     "output_type": "stream",
     "text": [
      "La valeur 83 se trouve en indice (python) n°5\n"
     ]
    }
   ],
   "source": [
    "# Recherche d'un élément v1\n",
    "\n",
    "# Liste3 contient des entiers\n",
    "n = len(Liste3)\n",
    "val = int(input(\"Valeur à rechercher : \"))\n",
    "i = 0\n",
    "\n",
    "while i <= n-1 and Liste3[i] != val :\n",
    "    i = i+1\n",
    "\n",
    "if i > n-1:\n",
    "    print(f\"La valeur {val} n'est pas dans la liste...\")\n",
    "else :\n",
    "    print(f\"La valeur {val} se trouve en indice (python) n°{i}\")"
   ]
  },
  {
   "cell_type": "code",
   "execution_count": 5,
   "metadata": {},
   "outputs": [
    {
     "name": "stdin",
     "output_type": "stream",
     "text": [
      "Valeur à rechercher :  83\n"
     ]
    },
    {
     "name": "stdout",
     "output_type": "stream",
     "text": [
      "La valeur 83 se trouve en indice (python) n°5\n"
     ]
    }
   ],
   "source": [
    "# Recherche d'un élément v2\n",
    "\n",
    "# Liste3 contient des entiers\n",
    "n = len(Liste3)\n",
    "val = int(input(\"Valeur à rechercher : \"))\n",
    "trouve = 0\n",
    "\n",
    "for i in range(0,n):\n",
    "    if Liste3[i] == val :\n",
    "        print(f\"La valeur {val} se trouve en indice (python) n°{i}\")\n",
    "        trouve = 1\n",
    "\n",
    "if trouve == 0 :\n",
    "    print(f\"La valeur {val} n'est pas dans la liste...\")"
   ]
  },
  {
   "cell_type": "code",
   "execution_count": 7,
   "metadata": {},
   "outputs": [
    {
     "name": "stdout",
     "output_type": "stream",
     "text": [
      "True\n",
      "5\n"
     ]
    }
   ],
   "source": [
    "# Recherche d'un élément v3\n",
    "\n",
    "# On utilise les techniques (méthodes) spécifiques à Python\n",
    "print(val in Liste3) # dans la liste ?\n",
    "print(Liste3.index(val)) # en quelle position (la première) ?"
   ]
  },
  {
   "cell_type": "code",
   "execution_count": 8,
   "metadata": {},
   "outputs": [
    {
     "name": "stdin",
     "output_type": "stream",
     "text": [
      "Valeur à rechercher :  45\n"
     ]
    },
    {
     "name": "stdout",
     "output_type": "stream",
     "text": [
      "La valeur 45 apparaît 1 fois\n",
      "1\n"
     ]
    }
   ],
   "source": [
    "# Nombre d'occurence d'une valeur \n",
    "\n",
    "# Liste4 contient 250 entiers enre 1 et 100\n",
    "Liste4 = [randint(1,100) for i in range(0,250)]\n",
    "n = len(Liste4)\n",
    "val = int(input(\"Valeur à rechercher : \"))\n",
    "\n",
    "nb = 0\n",
    "for i in range(0,n):\n",
    "    if Liste4[i] == val :\n",
    "        nb = nb+1\n",
    "\n",
    "print(f\"La valeur {val} apparaît {nb} fois\")\n",
    "\n",
    "# version méthode directe\n",
    "print(Liste4.count(val))"
   ]
  },
  {
   "cell_type": "code",
   "execution_count": 9,
   "metadata": {},
   "outputs": [
    {
     "name": "stdout",
     "output_type": "stream",
     "text": [
      "La valeur maximale est 98\n"
     ]
    }
   ],
   "source": [
    "# recherche du plus grand élément\n",
    "\n",
    "Liste5 = [randint(1,100) for i in range(0,25)]\n",
    "n = len(Liste5)\n",
    "maxi = Liste5[0]\n",
    "\n",
    "for i in range(1,n):\n",
    "    if Liste5[i] > maxi :\n",
    "        maxi = Liste5[i]\n",
    "\n",
    "print(f\"La valeur maximale est {maxi}\")"
   ]
  },
  {
   "cell_type": "code",
   "execution_count": 10,
   "metadata": {},
   "outputs": [
    {
     "name": "stdout",
     "output_type": "stream",
     "text": [
      "[62, 71, 92, 84, 19, 73, 34, 17, 36, 41, 15, 57, 49, 15, 24, 33, 77, 88, 97, 36, 80, 2, 66, 53, 34]\n",
      "97\n"
     ]
    }
   ],
   "source": [
    "# recherche du plus grand élément\n",
    "# version méthode directe\n",
    "\n",
    "Liste5 = [randint(1,100) for i in range(0,25)]\n",
    "print(Liste5)\n",
    "print(max(Liste5))"
   ]
  },
  {
   "cell_type": "code",
   "execution_count": 11,
   "metadata": {},
   "outputs": [
    {
     "name": "stdout",
     "output_type": "stream",
     "text": [
      "[69, 89, 33, 16, 86, 43, 48, 12, 94, 16, 43, 12, 67, 84, 63, 42, 70, 19, 56, 8, 9, 89, 46, 66, 24]\n",
      "La valeur mminimale est 8\n",
      "8\n"
     ]
    }
   ],
   "source": [
    "# Recherche du plus petit élément\n",
    "\n",
    "# Version \"normale\"\n",
    "Liste6 = [randint(1,100) for i in range(0,25)]\n",
    "print(Liste6)\n",
    "n = len(Liste6)\n",
    "mini = Liste6[0]\n",
    "\n",
    "for i in range(1,n):\n",
    "    if Liste6[i] < mini :\n",
    "        mini = Liste6[i]\n",
    "\n",
    "print(f\"La valeur mminimale est {mini}\")\n",
    "\n",
    "# Version \"méthode\"\n",
    "print(min(Liste6))"
   ]
  },
  {
   "cell_type": "code",
   "execution_count": 12,
   "metadata": {},
   "outputs": [
    {
     "name": "stdout",
     "output_type": "stream",
     "text": [
      "[73, 19, 75, 17, 99, 12, 13, 92, 40, 72, 66, 32, 95, 33, 31, 2, 35, 86, 51, 67, 15, 15, 29, 20, 11]\n",
      "La liste ordonnée est [2, 11, 12, 13, 15, 15, 17, 19, 20, 29, 31, 32, 33, 35, 40, 51, 66, 67, 72, 73, 75, 86, 92, 95, 99]\n",
      "[11, 58, 88, 95, 18, 6, 74, 77, 58, 46, 3, 87, 16, 38, 66, 10, 96, 26, 59, 15, 57, 82, 47, 55, 1]\n",
      "La liste ordonnée est [1, 3, 6, 10, 11, 15, 16, 18, 26, 38, 46, 47, 55, 57, 58, 58, 59, 66, 74, 77, 82, 87, 88, 95, 96]\n"
     ]
    }
   ],
   "source": [
    "# Tri d'une liste par sélection\n",
    "\n",
    "# Version classique\n",
    "Liste7 = [randint(1,100) for i in range(0,25)]\n",
    "print(Liste7)\n",
    "n = len(Liste7)\n",
    "\n",
    "for depart in range(0,n-1):\n",
    "    posmin = depart\n",
    "    for i in range(depart+1,n):\n",
    "        if Liste7[i] < Liste7[posmin]:\n",
    "            posmin = i\n",
    "    aux = Liste7[posmin]\n",
    "    Liste7[posmin] = Liste7[depart]\n",
    "    Liste7[depart] = aux\n",
    "    \n",
    "print(f\"La liste ordonnée est {Liste7}\")\n",
    "\n",
    "# Version \"méthode\"\n",
    "Liste8 = [randint(1,100) for i in range(0,25)]\n",
    "print(Liste8)\n",
    "Liste8.sort()\n",
    "print(f\"La liste ordonnée est {Liste8}\")"
   ]
  },
  {
   "cell_type": "markdown",
   "metadata": {},
   "source": [
    "## **Tableaux à deux dimensions**"
   ]
  },
  {
   "cell_type": "code",
   "execution_count": 13,
   "metadata": {},
   "outputs": [
    {
     "name": "stdout",
     "output_type": "stream",
     "text": [
      "Contenu de la case n°(0,0) ? \n"
     ]
    },
    {
     "name": "stdin",
     "output_type": "stream",
     "text": [
      " 1\n"
     ]
    },
    {
     "name": "stdout",
     "output_type": "stream",
     "text": [
      "Contenu de la case n°(0,1) ? \n"
     ]
    },
    {
     "name": "stdin",
     "output_type": "stream",
     "text": [
      " 4\n"
     ]
    },
    {
     "name": "stdout",
     "output_type": "stream",
     "text": [
      "Contenu de la case n°(0,2) ? \n"
     ]
    },
    {
     "name": "stdin",
     "output_type": "stream",
     "text": [
      " 5\n"
     ]
    },
    {
     "name": "stdout",
     "output_type": "stream",
     "text": [
      "Contenu de la case n°(0,3) ? \n"
     ]
    },
    {
     "name": "stdin",
     "output_type": "stream",
     "text": [
      " 0\n"
     ]
    },
    {
     "name": "stdout",
     "output_type": "stream",
     "text": [
      "Contenu de la case n°(1,0) ? \n"
     ]
    },
    {
     "name": "stdin",
     "output_type": "stream",
     "text": [
      " -3\n"
     ]
    },
    {
     "name": "stdout",
     "output_type": "stream",
     "text": [
      "Contenu de la case n°(1,1) ? \n"
     ]
    },
    {
     "name": "stdin",
     "output_type": "stream",
     "text": [
      " 2\n"
     ]
    },
    {
     "name": "stdout",
     "output_type": "stream",
     "text": [
      "Contenu de la case n°(1,2) ? \n"
     ]
    },
    {
     "name": "stdin",
     "output_type": "stream",
     "text": [
      " 10\n"
     ]
    },
    {
     "name": "stdout",
     "output_type": "stream",
     "text": [
      "Contenu de la case n°(1,3) ? \n"
     ]
    },
    {
     "name": "stdin",
     "output_type": "stream",
     "text": [
      " 15\n"
     ]
    },
    {
     "name": "stdout",
     "output_type": "stream",
     "text": [
      "[[3, 1, 6, 0], [5, 2, 4, 2]]\n",
      "[['1', '4', '5', '0'], ['-3', '2', '10', '15']]\n",
      "[[0, 0, 0, 0], [0, 0, 0, 0]]\n",
      "[[93, 87, 28, 56], [99, 7, 4, 66]]\n"
     ]
    }
   ],
   "source": [
    "# Génération d'un tableau\n",
    "\n",
    "# Méthode directe\n",
    "ListeA = [[3,1,6,0],[5,2,4,2]]\n",
    "\n",
    "# Méthode par ajout manuel\n",
    "ListeB = [[0,0,0,0],[0,0,0,0]]\n",
    "for i in range(0,2):\n",
    "    for j in range(0,4):\n",
    "        print(f\"Contenu de la case n°({i},{j}) ? \")\n",
    "        ListeB[i][j] = input(\"\") # les éléments seront des chaînes\n",
    "\n",
    "# Méthode par compréhension\n",
    "ListeC = [[0 for j in range(0,4)] for i in range(0,2)]\n",
    "\n",
    "from random import *\n",
    "ListeD = [[randint(1,100) for j in range(0,4)] for i in range(0,2)]\n",
    "\n",
    "print(ListeA)\n",
    "print(ListeB)\n",
    "print(ListeC)\n",
    "print(ListeD)"
   ]
  },
  {
   "cell_type": "code",
   "execution_count": 14,
   "metadata": {},
   "outputs": [
    {
     "name": "stdout",
     "output_type": "stream",
     "text": [
      "[[93, 87, 28, 56], [99, 7, 4, 66]]\n",
      "93\n",
      "87\n",
      "28\n",
      "56\n",
      "99\n",
      "7\n",
      "4\n",
      "66\n",
      "[99, 7, 4, 66]\n",
      "28\n",
      "4\n"
     ]
    }
   ],
   "source": [
    "# Affichage des éléments\n",
    "\n",
    "# on récupère les dimensions de la liste (rectangulaire)\n",
    "print(ListeD)\n",
    "lig = len(ListeD)\n",
    "col = len(ListeD[0])\n",
    "\n",
    "# Affichage de tous les éléments\n",
    "for i in range(0,lig):\n",
    "    for j in range(0,col):\n",
    "        print(ListeD[i][j])\n",
    "\n",
    "# Affichage de la deuxième ligne\n",
    "print(ListeD[1])\n",
    "\n",
    "# Affichage de la troisième colonne\n",
    "for i in range(0,lig):\n",
    "    print(ListeD[i][2])"
   ]
  },
  {
   "cell_type": "code",
   "execution_count": 15,
   "metadata": {},
   "outputs": [
    {
     "name": "stdout",
     "output_type": "stream",
     "text": [
      "[[], [], [], [], [], [], [], [], [], []]\n",
      "[[0, 0, 0, 0, 0], [0, 0, 0, 0, 0], [0, 0, 0, 0, 0], [0, 0, 0, 0, 0], [0, 0, 0, 0, 0], [0, 0, 0, 0, 0], [0, 0, 0, 0, 0], [0, 0, 0, 0, 0], [0, 0, 0, 0, 0], [0, 0, 0, 0, 0]]\n"
     ]
    }
   ],
   "source": [
    "# Création de tableaux (vides ou non)\n",
    "\n",
    "T1 = [[] for i in range(0,10)]\n",
    "print(T1)\n",
    "\n",
    "T2 = [[0 for i in range(0,5)] for i in range(0,10)]\n",
    "print(T2)"
   ]
  },
  {
   "cell_type": "code",
   "execution_count": 16,
   "metadata": {},
   "outputs": [
    {
     "name": "stdout",
     "output_type": "stream",
     "text": [
      "[[7, 37, 55, 8, 93, 100, 54, 20, 96, 9], [86, 87, 56, 36, 36, 3, 60, 60, 20, 76], [23, 36, 48, 89, 66, 86, 99, 54, 28, 83], [2, 78, 67, 90, 61, 55, 5, 87, 38, 81], [67, 70, 30, 42, 91, 34, 69, 94, 94, 11]]\n"
     ]
    },
    {
     "name": "stdin",
     "output_type": "stream",
     "text": [
      "Valeur à rechercher :  100\n"
     ]
    },
    {
     "name": "stdout",
     "output_type": "stream",
     "text": [
      "La valeur 100 se trouve en indice (python) n°(0,5)\n",
      "La valeur 100 se trouve en position L1 et C6\n",
      "100 est-elle dans la liste ? => True\n"
     ]
    }
   ],
   "source": [
    "# Recherche d'un élément \n",
    "\n",
    "Tabl = [[randint(1,100) for j in range(0,10)] for i in range(0,5)] # contient des entiers\n",
    "lig = len(Tabl)\n",
    "col = len(Tabl[0])\n",
    "print(Tabl)\n",
    "\n",
    "# Version normale\n",
    "val = int(input(\"Valeur à rechercher : \"))\n",
    "trouve = 0\n",
    "\n",
    "for i in range(0,lig):\n",
    "    for j in range(0,col):\n",
    "        if Tabl[i][j] == val :\n",
    "            print(f\"La valeur {val} se trouve en indice (python) n°({i},{j})\")\n",
    "            print(f\"La valeur {val} se trouve en position L{i+1} et C{j+1}\")\n",
    "        trouve = 1\n",
    "\n",
    "if trouve == 0 :\n",
    "    print(f\"La valeur {val} n'est pas dans la liste...\")\n",
    "\n",
    "# version méthode (on doit tester par ligne + calcul booléen ;-))\n",
    "presence = False\n",
    "for i in range(0,lig):\n",
    "    presence = presence or (val in Tabl[i])\n",
    "print(f\"{val} est-elle dans la liste ? => {presence}\")"
   ]
  },
  {
   "cell_type": "code",
   "execution_count": 17,
   "metadata": {},
   "outputs": [
    {
     "name": "stdout",
     "output_type": "stream",
     "text": [
      "[[83, 25, 30, 78, 4, 29, 41, 42, 39, 53], [37, 53, 94, 80, 67, 7, 50, 70, 78, 36], [1, 65, 99, 88, 5, 25, 46, 75, 21, 52], [18, 96, 82, 35, 39, 65, 23, 52, 69, 68], [92, 99, 69, 79, 86, 86, 48, 73, 14, 18]]\n"
     ]
    },
    {
     "name": "stdin",
     "output_type": "stream",
     "text": [
      "Valeur à rechercher :  86\n"
     ]
    },
    {
     "name": "stdout",
     "output_type": "stream",
     "text": [
      "La valeur 86 est présente 2 fois dans le tableau\n",
      "86 est présente 2 fois dans le tableau\n"
     ]
    }
   ],
   "source": [
    "# Nombre d'occurence d'une valeur \n",
    "\n",
    "Tabl = [[randint(1,100) for j in range(0,10)] for i in range(0,5)] # contient des entiers\n",
    "lig = len(Tabl)\n",
    "col = len(Tabl[0])\n",
    "print(Tabl)\n",
    "\n",
    "# Version normale\n",
    "val = int(input(\"Valeur à rechercher : \"))\n",
    "nb = 0\n",
    "\n",
    "for i in range(0,lig):\n",
    "    for j in range(0,col):\n",
    "        if Tabl[i][j] == val :\n",
    "            nb = nb + 1\n",
    "\n",
    "print(f\"La valeur {val} est présente {nb} fois dans le tableau\")\n",
    "\n",
    "# version méthode (on doit tester, et cumuler, ligne par ligne)\n",
    "nb2 = 0\n",
    "for i in range(0,lig):\n",
    "    nb2 = nb2 + Tabl[i].count(val)\n",
    "print(f\"{val} est présente {nb2} fois dans le tableau\")"
   ]
  },
  {
   "cell_type": "markdown",
   "metadata": {},
   "source": [
    "## **Exemples rédigés**"
   ]
  },
  {
   "cell_type": "code",
   "execution_count": 18,
   "metadata": {},
   "outputs": [
    {
     "name": "stdout",
     "output_type": "stream",
     "text": [
      "L'entrée d'une valeur négative ou supérieure à 20 arrête la saisie !\n"
     ]
    },
    {
     "name": "stdin",
     "output_type": "stream",
     "text": [
      "Saisir une note :  0\n",
      "Saisir une note :  2\n",
      "Saisir une note :  6\n",
      "Saisir une note :  15\n",
      "Saisir une note :  10\n",
      "Saisir une note :  19\n",
      "Saisir une note :  1\n",
      "Saisir une note :  -5\n"
     ]
    },
    {
     "name": "stdout",
     "output_type": "stream",
     "text": [
      "Nombre de notes : 7\n",
      "Notes  : [0, 2, 6, 15, 10, 19, 1]\n",
      "Moyenne : 7.6\n",
      "Note minimale : 0\n",
      "Note maximale : 19\n",
      "Notes  : [0, 2, 6, 15, 10, 19, 1]\n",
      "Moyenne : 7.6\n",
      "Note minimale : 0\n",
      "Note maximale : 19\n"
     ]
    }
   ],
   "source": [
    "# Analyse d'une série de notes\n",
    "\n",
    "notes = []\n",
    "fini = False\n",
    "print(\"L'entrée d'une valeur négative ou supérieure à 20 arrête la saisie !\")\n",
    "\n",
    "while (not fini) :\n",
    "    note = int(input(\"Saisir une note : \"))\n",
    "    fini = ((note < 0) or (note > 20))\n",
    "    if (not fini) :\n",
    "        notes.append(note)\n",
    "\n",
    "nombre = len(notes)\n",
    "if nombre > 0 :\n",
    "    som = notes[0]\n",
    "    maxi = notes[0]\n",
    "    mini = notes[0]\n",
    "    for i in range(1,nombre):\n",
    "        som = som + notes[i]\n",
    "        if notes[i] > maxi :\n",
    "            maxi = notes[i]\n",
    "        else :\n",
    "            if notes[i] < mini :\n",
    "                mini = notes[i]\n",
    "\n",
    "print(f\"Nombre de notes : {nombre}\")\n",
    "if nombre > 0 :\n",
    "    print(f\"Notes  : {notes}\")\n",
    "    print(f\"Moyenne : {som/nombre:.1f}\")\n",
    "    print(f\"Note minimale : {mini}\")\n",
    "    print(f\"Note maximale : {maxi}\")\n",
    "else : \n",
    "    print(\"Il faudrait saisir au-moins une note...\")\n",
    "\n",
    "# version méthode\n",
    "if nombre > 0 :\n",
    "    print(f\"Notes  : {notes}\")\n",
    "    print(f\"Moyenne : {(sum(notes)/len(notes)):.1f}\")\n",
    "    print(f\"Note minimale : {min(notes)}\")\n",
    "    print(f\"Note maximale : {max(notes)}\")\n",
    "else : \n",
    "    print(\"Il faudrait saisir au-moins une note...\")"
   ]
  },
  {
   "cell_type": "code",
   "execution_count": 19,
   "metadata": {},
   "outputs": [
    {
     "name": "stdin",
     "output_type": "stream",
     "text": [
      "Saisir le nombre de lignes à afficher :  10\n"
     ]
    },
    {
     "name": "stdout",
     "output_type": "stream",
     "text": [
      "1 \n",
      "1 1 \n",
      "1 2 1 \n",
      "1 3 3 1 \n",
      "1 4 6 4 1 \n",
      "1 5 10 10 5 1 \n",
      "1 6 15 20 15 6 1 \n",
      "1 7 21 35 35 21 7 1 \n",
      "1 8 28 56 70 56 28 8 1 \n",
      "1 9 36 84 126 126 84 36 9 1 \n"
     ]
    }
   ],
   "source": [
    "# triangle de Pascal\n",
    "\n",
    "n = int(input(\"Saisir le nombre de lignes à afficher : \"))\n",
    "\n",
    "pascal = [[0 for i in range(0,n)] for j in range(0,n)]\n",
    "for i in range(0,n):\n",
    "    pascal[i][0] = 1 # première colonne à 1\n",
    "\n",
    "for i in range(1,n):\n",
    "    for j in range(1,i+1):\n",
    "        pascal[i][j] = pascal[i-1][j] + pascal[i-1][j-1]\n",
    "\n",
    "for i in range(0,n):\n",
    "    for j in range(0,i+1):\n",
    "        print(pascal[i][j],end=' ')\n",
    "    print()"
   ]
  }
 ],
 "metadata": {
  "kernelspec": {
   "display_name": "Python 3",
   "language": "python",
   "name": "python3"
  },
  "language_info": {
   "codemirror_mode": {
    "name": "ipython",
    "version": 3
   },
   "file_extension": ".py",
   "mimetype": "text/x-python",
   "name": "python",
   "nbconvert_exporter": "python",
   "pygments_lexer": "ipython3",
   "version": "3.7.0"
  }
 },
 "nbformat": 4,
 "nbformat_minor": 2
}
