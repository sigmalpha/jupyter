{
 "cells": [
  {
   "cell_type": "markdown",
   "metadata": {},
   "source": [
    "## **Correction du DS02**"
   ]
  },
  {
   "cell_type": "code",
   "execution_count": 3,
   "metadata": {},
   "outputs": [
    {
     "name": "stdin",
     "output_type": "stream",
     "text": [
      "Entrer la valeur de a :  3\n",
      "Entrer la valeur de b :  1\n",
      "Entrer la valeur de c :  2\n"
     ]
    },
    {
     "name": "stdout",
     "output_type": "stream",
     "text": [
      "3.0\n"
     ]
    }
   ],
   "source": [
    "# Exercice 2 (version classique)\n",
    "\n",
    "a = float(input(\"Entrer la valeur de a : \"))\n",
    "b = float(input(\"Entrer la valeur de b : \"))\n",
    "c = float(input(\"Entrer la valeur de c : \"))\n",
    "\n",
    "resul = a\n",
    "if b > a :\n",
    "    resul = b\n",
    "if c > resul :\n",
    "    resul = c\n",
    "    \n",
    "print(resul)"
   ]
  },
  {
   "cell_type": "code",
   "execution_count": 5,
   "metadata": {},
   "outputs": [
    {
     "name": "stdout",
     "output_type": "stream",
     "text": [
      "3\n",
      "3\n",
      "3\n"
     ]
    }
   ],
   "source": [
    "# Exercice 2 (version évoluée)\n",
    "\n",
    "def exo2(a,b,c):\n",
    "    resul = a\n",
    "    if b > a :\n",
    "        resul = b\n",
    "    if c > resul :\n",
    "        resul = c\n",
    "    return(resul)\n",
    "\n",
    "print(exo2(1,2,3))\n",
    "print(exo2(2,3,1))\n",
    "print(exo2(3,1,2))"
   ]
  },
  {
   "cell_type": "code",
   "execution_count": 6,
   "metadata": {},
   "outputs": [
    {
     "name": "stdout",
     "output_type": "stream",
     "text": [
      "7\n",
      "0\n",
      "10\n",
      "8\n",
      "0\n"
     ]
    }
   ],
   "source": [
    "# Exercice 3 (version \"fonction\")\n",
    "\n",
    "def exo3(x):\n",
    "    if x >=15 :\n",
    "        return(x-10)\n",
    "    elif x >= 10 :\n",
    "        return(x-5)\n",
    "    elif x >=5 :\n",
    "        return(x)\n",
    "    else :\n",
    "        return(0)\n",
    "\n",
    "print(exo3(12))\n",
    "print(exo3(2))\n",
    "print(exo3(20))\n",
    "print(exo3(8))\n",
    "print(exo3(-7))"
   ]
  },
  {
   "cell_type": "code",
   "execution_count": 7,
   "metadata": {},
   "outputs": [
    {
     "name": "stdin",
     "output_type": "stream",
     "text": [
      "Donner le montant des achats, en euros :  6000\n"
     ]
    },
    {
     "name": "stdout",
     "output_type": "stream",
     "text": [
      "Le taux de réduction est de 15%\n",
      "Le montant après réduction est de 5100.0€\n"
     ]
    }
   ],
   "source": [
    "# Exercice 4\n",
    "\n",
    "montant = float(input(\"Donner le montant des achats, en euros : \"))\n",
    "if montant >= 5000 :\n",
    "    taux = 15\n",
    "elif montant >= 2000 :\n",
    "    taux = 10\n",
    "elif montant >= 750 :\n",
    "    taux = 5\n",
    "else :\n",
    "    taux = 0\n",
    "print(f\"Le taux de réduction est de {taux}%\")\n",
    "montant = montant * (1-taux/100)\n",
    "print(f\"Le montant après réduction est de {montant}€\")"
   ]
  },
  {
   "cell_type": "code",
   "execution_count": 8,
   "metadata": {},
   "outputs": [
    {
     "name": "stdin",
     "output_type": "stream",
     "text": [
      "Donner la valeur de a :  10\n",
      "Donner la valeur de b :  2\n"
     ]
    },
    {
     "name": "stdout",
     "output_type": "stream",
     "text": [
      "96\n"
     ]
    }
   ],
   "source": [
    "# Exercice 5\n",
    "\n",
    "a = int(input(\"Donner la valeur de a : \"))\n",
    "b = int(input(\"Donner la valeur de b : \"))\n",
    "if a > b :\n",
    "    print(a**2-b**2)\n",
    "else :\n",
    "    print(0)"
   ]
  },
  {
   "cell_type": "code",
   "execution_count": 9,
   "metadata": {},
   "outputs": [
    {
     "name": "stdin",
     "output_type": "stream",
     "text": [
      "Donner un nombre :  18\n"
     ]
    },
    {
     "name": "stdout",
     "output_type": "stream",
     "text": [
      "Ton nombre est 18.0, il est strictement inférieur à 20 ; au revoir\n"
     ]
    },
    {
     "name": "stdin",
     "output_type": "stream",
     "text": [
      "Donner un nombre :  25\n"
     ]
    },
    {
     "name": "stdout",
     "output_type": "stream",
     "text": [
      "Ton nombre est 25.0, il est strictement supérieur à 20 ; au revoir\n"
     ]
    }
   ],
   "source": [
    "# Exercice 6\n",
    "\n",
    "# Algorithme avec contraintes v1\n",
    "nb = float(input(\"Donner un nombre : \"))\n",
    "if nb == 20:\n",
    "    texte = \"égal\"\n",
    "elif nb > 20 :\n",
    "    texte = \"strictement supérieur\"\n",
    "else :\n",
    "    texte = \"strictement inférieur\"\n",
    "print(f\"Ton nombre est {nb}, il est {texte} à 20 ; au revoir\")\n",
    "\n",
    "# Algorithme avec contraintes v2\n",
    "nb = float(input(\"Donner un nombre : \"))\n",
    "\n",
    "print(f\"Ton nombre est {nb}, \",end='')\n",
    "# end='' pour ne pas passer à la ligne\n",
    "if nb == 20:\n",
    "    texte = \"égal\"\n",
    "elif nb > 20 :\n",
    "    texte = \"strictement supérieur\"\n",
    "else :\n",
    "    texte = \"strictement inférieur\"\n",
    "print(f\"il est {texte} à 20 ; au revoir\")"
   ]
  },
  {
   "cell_type": "code",
   "execution_count": null,
   "metadata": {},
   "outputs": [],
   "source": []
  }
 ],
 "metadata": {
  "kernelspec": {
   "display_name": "Python 3",
   "language": "python",
   "name": "python3"
  },
  "language_info": {
   "codemirror_mode": {
    "name": "ipython",
    "version": 3
   },
   "file_extension": ".py",
   "mimetype": "text/x-python",
   "name": "python",
   "nbconvert_exporter": "python",
   "pygments_lexer": "ipython3",
   "version": "3.7.0"
  }
 },
 "nbformat": 4,
 "nbformat_minor": 2
}
