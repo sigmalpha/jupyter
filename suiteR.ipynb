{
 "cells": [
  {
   "cell_type": "markdown",
   "metadata": {},
   "source": [
    "Le premier terme de la suite R est posé comme égal à 0. Chaque terme de la suite se construit ensuite en comptant le nombre d'apparitions des différents chiffres de 9 à 0 (dans cet ordre) dans le terme précédent. Si un chiffre n'apparaît pas, il n'est pas pris en compte.\n",
    "\n",
    "\n",
    "   $u_0 = 0$\n",
    "\n",
    "Ce terme comporte juste un « 0 ». Par conséquent, le terme suivant est :\n",
    "\n",
    "   $u_1 = 10$\n",
    "\n",
    "Celui-ci est composé d'un « 1 » et d'un « 0 » :\n",
    "\n",
    "  $u_2 = 1110$ \n",
    "    \n",
    "En poursuivant le procédé :\n",
    "\n",
    "  $u_3 = 3110$\n",
    "    \n",
    "  $u_4 = 132110$\n",
    "  \n",
    "  $u_5=13123110$"
   ]
  },
  {
   "cell_type": "markdown",
   "metadata": {},
   "source": [
    "Ecrire une fonction **suite_r(u0 , n)** qui \n",
    "<ul>\n",
    "    <li> prend en paramètre le premier terme $u_0$ et le nombre de termes à afficher n</li>\n",
    "    <li>  retourne une liste formée des n premiers termes</li>\n",
    " </ul>\n",
    " \n",
    " Exemple suite_r(0,6) retournera $[~0 ~, ~10~ ,~ 1110~ , ~3110~ ,~ 132110 ~, ~13123110~]$\n",
    " \n",
    "  Rappels :\n",
    " <ul>\n",
    "    <li> listes :\n",
    "        <ul>\n",
    "            <li> len(L) donne la longueur de la liste L</li>\n",
    "    <li> $[]$ est la liste vide</li>\n",
    "    <li> $L = L + [x]$ permet d'ajouter un élément $x$ à la fin d'une liste $L$</li>\n",
    "        </ul>\n",
    "    </li>\n",
    "    <li> chaîne de caractères : \n",
    "        <ul>\n",
    "            <li> len(c) donne la longueur de la chaine c</li>\n",
    "            <li> \"31\"+\"4\" donne la chaîne \"314\"</li>\n",
    "            <li> \"\" est la chaîne vide</li>\n",
    "     </ul>\n",
    "    </li>\n",
    "  </ul>\n",
    "  \n",
    "  Aide : \n",
    "  <ul>\n",
    "    <li> chaque terme de la suite ne comporte que des chiffres de 0 à 9...   </li>\n",
    "    <li> on pourra utiliser un tableau à deux dimensions pour compter les occurrences de ces chiffres dans un terme : [['0','1','2','3','4','5','6','7','8','9'] , [0,0,0,0,0,0,0,0,0,0]]</li>\n",
    "    <li> plein d'autres meilleures solutions sont possibles !\n",
    "    </ul>\n",
    " \n",
    " "
   ]
  },
  {
   "cell_type": "code",
   "execution_count": null,
   "metadata": {},
   "outputs": [],
   "source": [
    "\n",
    "\n"
   ]
  },
  {
   "cell_type": "markdown",
   "metadata": {},
   "source": [
    "Observer ce qui se passe quand $u_0$ est choisi entre 1 et 39."
   ]
  },
  {
   "cell_type": "code",
   "execution_count": null,
   "metadata": {},
   "outputs": [],
   "source": []
  },
  {
   "cell_type": "markdown",
   "metadata": {},
   "source": [
    "Observer ce qui se passe quand $u_0 = 40$"
   ]
  },
  {
   "cell_type": "code",
   "execution_count": null,
   "metadata": {},
   "outputs": [],
   "source": []
  },
  {
   "cell_type": "markdown",
   "metadata": {},
   "source": [
    "Observer ce qui se passe quand $u_0=50$"
   ]
  },
  {
   "cell_type": "code",
   "execution_count": null,
   "metadata": {},
   "outputs": [],
   "source": []
  }
 ],
 "metadata": {
  "kernelspec": {
   "display_name": "Python 3",
   "language": "python",
   "name": "python3"
  },
  "language_info": {
   "codemirror_mode": {
    "name": "ipython",
    "version": 3
   },
   "file_extension": ".py",
   "mimetype": "text/x-python",
   "name": "python",
   "nbconvert_exporter": "python",
   "pygments_lexer": "ipython3",
   "version": "3.7.5"
  }
 },
 "nbformat": 4,
 "nbformat_minor": 2
}
